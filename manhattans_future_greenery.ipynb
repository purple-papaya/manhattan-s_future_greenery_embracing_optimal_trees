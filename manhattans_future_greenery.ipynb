{
 "cells": [
  {
   "cell_type": "code",
   "execution_count": null,
   "id": "3a3c683a-8aef-4f7e-9f32-2a6f30eabd01",
   "metadata": {
    "executionTime": 19227,
    "jupyter": {
     "outputs_hidden": false,
     "source_hidden": true
    },
    "lastSuccessfullyExecutedCode": "%%capture\nimport numpy as np\nimport pandas as pd\nimport geopandas as gpd\nimport json\n\nimport plotly.express as px\n!pip3 install stylecloud\nimport stylecloud"
   },
   "outputs": [],
   "source": [
    "%%capture\n",
    "import numpy as np\n",
    "import pandas as pd\n",
    "import geopandas as gpd\n",
    "import json\n",
    "\n",
    "import plotly.express as px\n",
    "!pip3 install stylecloud\n",
    "import stylecloud"
   ]
  },
  {
   "cell_type": "code",
   "execution_count": null,
   "id": "40251159-3eea-47f8-bfb4-09e38d5ced65",
   "metadata": {
    "executionTime": 209,
    "jupyter": {
     "outputs_hidden": false,
     "source_hidden": true
    },
    "lastSuccessfullyExecutedCode": "trees = pd.read_csv('data/trees.csv')\nneighborhoods = gpd.read_file('data/nta.shp')"
   },
   "outputs": [],
   "source": [
    "trees = pd.read_csv('data/trees.csv')\n",
    "neighborhoods = gpd.read_file('data/nta.shp')"
   ]
  },
  {
   "cell_type": "markdown",
   "id": "6a32d97f-f831-498f-823f-73c77ed60e56",
   "metadata": {},
   "source": [
    "<div align=\"center\"> \n",
    "    <h1 align=\"center\"> \n",
    "        Manhattan's Future Greenery:<br> \n",
    "        Embracing Optimal Trees  \n",
    "    </h1> \n",
    "</div>\n",
    "\n",
    "Have you ever been to Manhattan and noticed the abundance of trees that line its streets? While it may seem that there are many different types of trees, it turns out that certain species are more common than others. These trees provide much-needed shade on scorching hot summer days while also helping to clean the air by filtering pollutants from cars and other sources of air pollution. Furthermore, these urban trees are relatively low maintenance compared to other species meaning they require less effort from caretakers while still offering numerous benefits for both people and wildlife alike. \n",
    "\n",
    "\n",
    "![manhattan_2](pictures/manhattan_2.png)\n",
    "\n",
    "\n",
    "Let's take a look at the tree species in Manhattan, their characteristics, benefits, health indicators and location, both with respect to the curb and the neighborhoods. The urban design team believes tree size (using trunk diameter as a proxy for size) and health are the most desirable characteristics of city trees. The city would like to learn more about which tree species are the best choice to plant on the streets of Manhattan.\n",
    "\n",
    "The aim of this exploration is to:\n",
    " - characterise the dataset;\n",
    " - identify most common tree species in Manhattan;\n",
    " - select neighborhoods with the most trees;\n",
    " - visualize trees' location in Manhattan's neighborhood; and\n",
    " - pinpoint 10 most suitable tree species suitable for future planting based on health parameters."
   ]
  },
  {
   "cell_type": "markdown",
   "id": "10dcc269-3659-4851-99cd-f1ffb7f818aa",
   "metadata": {
    "tags": []
   },
   "source": [
    "## Data\n",
    "\n",
    "The team has provided access to the 2015 tree census and geographical information on New York City neighborhoods ([trees](https://data.cityofnewyork.us/Environment/2015-Street-Tree-Census-Tree-Data/uvpi-gqnh), [neighborhoods](https://data.cityofnewyork.us/City-Government/NTA-map/d3qk-pfyz)):\n",
    "\n",
    "**Tree Census**\n",
    "- \"tree_id\" - Unique id of each tree.\n",
    "- \"tree_dbh\" - The diameter of the tree in inches measured at 54 inches above the ground.\n",
    "- \"curb_loc\" - Location of the tree bed in relation to the curb. Either along the curb (OnCurb) or offset from the curb (OffsetFromCurb).\n",
    "- \"spc_common\" - Common name for the species.\n",
    "- \"status\" - Indicates whether the tree is alive or standing dead.\n",
    "- \"health\" - Indication of the tree's health (Good, Fair, and Poor).\n",
    "- \"root_stone\" - Indicates the presence of a root problem caused by paving stones in the tree bed.\n",
    "- \"root_grate\" - Indicates the presence of a root problem caused by metal grates in the tree bed.\n",
    "- \"root_other\" - Indicates the presence of other root problems.\n",
    "- \"trunk_wire\" - Indicates the presence of a trunk problem caused by wires or rope wrapped around the trunk.\n",
    "- \"trnk_light\" - Indicates the presence of a trunk problem caused by lighting installed on the tree.\n",
    "- \"trnk_other\" - Indicates the presence of other trunk problems.\n",
    "- \"brch_light\" - Indicates the presence of a branch problem caused by lights or wires in the branches.\n",
    "- \"brch_shoe\" - Indicates the presence of a branch problem caused by shoes in the branches.\n",
    "- \"brch_other\" - Indicates the presence of other branch problems.\n",
    "- \"postcode\" - Five-digit zip code where the tree is located.\n",
    "- \"nta\" - Neighborhood Tabulation Area (NTA) code from the 2010 US Census for the tree.\n",
    "- \"nta_name\" - Neighborhood name.\n",
    "- \"latitude\" - Latitude of the tree, in decimal degrees.\n",
    "- \"longitude\" - Longitude of the tree, in decimal degrees.\n",
    "\n",
    "**Neighborhoods' Geographical Information**\n",
    "- \"ntacode\" - NTA code (matches Tree Census information).\n",
    "- \"ntaname\" - Neighborhood name (matches Tree Census information).\n",
    "- \"geometry\" - Polygon that defines the neighborhood.\n",
    "\n",
    "_Tree census and neighborhood information from the City of New York [NYC Open Data](https://opendata.cityofnewyork.us/data/)._"
   ]
  },
  {
   "cell_type": "code",
   "execution_count": null,
   "id": "20ec0a39-9875-4073-adca-6e63fda2c370",
   "metadata": {
    "executionTime": 56,
    "jupyter": {
     "outputs_hidden": false,
     "source_hidden": true
    },
    "lastSuccessfullyExecutedCode": "tree_boro = (\n    trees\n    .rename(columns={'nta': 'ntacode', 'nta_name': 'ntaname'})\n    .merge(neighborhoods, on=['ntacode', 'ntaname'], validate=\"m:1\")\n)"
   },
   "outputs": [],
   "source": [
    "tree_boro = (\n",
    "    trees\n",
    "    .rename(columns={'nta': 'ntacode', 'nta_name': 'ntaname'})\n",
    "    .merge(neighborhoods, on=['ntacode', 'ntaname'], validate=\"m:1\")\n",
    ")"
   ]
  },
  {
   "cell_type": "markdown",
   "id": "0d6d26b2-8e2a-4287-87fc-02a89bc5ce53",
   "metadata": {},
   "source": [
    "## Descriptive Analysis"
   ]
  },
  {
   "cell_type": "code",
   "execution_count": null,
   "id": "cb65bab0-cf18-4f4a-b106-a7c910e99b22",
   "metadata": {
    "executionTime": 70,
    "jupyter": {
     "outputs_hidden": false,
     "source_hidden": true
    },
    "lastSuccessfullyExecutedCode": "print(f'There are {len(tree_boro)} items in the dataset. Considering that there are also {len(tree_boro.tree_id.drop_duplicates())} unique tree IDs, the number of items in the dataset corresponds to individual unique trees.')"
   },
   "outputs": [],
   "source": [
    "print(f'There are {len(tree_boro)} items in the dataset. Considering that there are also {len(tree_boro.tree_id.drop_duplicates())} unique tree IDs, the number of items in the dataset corresponds to individual unique trees.')"
   ]
  },
  {
   "cell_type": "markdown",
   "id": "b545ba24-ce9f-4b55-ad08-542c486bbee2",
   "metadata": {},
   "source": [
    "In the dataset with total count of 64,229 trees in Manhattan, 1,802 are dead, as evidenced in Fig. 1. Those dead trees do not have any assigned tree species (except 1 that is honeylocust) nor do they have an indicator of health status. These trees can be excluded from the basic analysis for now. However, they can provide us with clues on what causes trees to die later."
   ]
  },
  {
   "cell_type": "code",
   "execution_count": null,
   "id": "4309a54b-74c2-4ebd-9193-7138f8239245",
   "metadata": {
    "executionTime": 132,
    "jupyter": {
     "outputs_hidden": false,
     "source_hidden": true
    },
    "lastSuccessfullyExecutedCode": "alive_dead = (\n    tree_boro.groupby(['status'])[['status']].count()\n    .rename(columns={'status':'Count of Trees'})\n    .reset_index()\n    .sort_values('Count of Trees', ascending=False)\n)"
   },
   "outputs": [],
   "source": [
    "alive_dead = (\n",
    "    tree_boro.groupby(['status'])[['status']].count()\n",
    "    .rename(columns={'status':'Count of Trees'})\n",
    "    .reset_index()\n",
    "    .sort_values('Count of Trees', ascending=False)\n",
    ")"
   ]
  },
  {
   "cell_type": "code",
   "execution_count": null,
   "id": "58177d13-10fa-40ca-9b3c-6e005c7ab9b9",
   "metadata": {
    "executionTime": 7112,
    "jupyter": {
     "outputs_hidden": false,
     "source_hidden": true
    },
    "lastSuccessfullyExecutedCode": "fig_0 = px.bar(\n    alive_dead, \n    x='status', \n    y='Count of Trees', \n    color='status',\n    title='Fig. 1: Count of Alive vs Dead Trees in Manhattan',\n    labels={'status': 'Status'}\n)\nfig_0.show()"
   },
   "outputs": [],
   "source": [
    "fig_0 = px.bar(\n",
    "    alive_dead, \n",
    "    x='status', \n",
    "    y='Count of Trees', \n",
    "    color='status',\n",
    "    title='Fig. 1: Count of Alive vs Dead Trees in Manhattan',\n",
    "    labels={'status': 'Status'}\n",
    ")\n",
    "fig_0.show()"
   ]
  },
  {
   "cell_type": "code",
   "execution_count": null,
   "id": "ad562b19-6a9d-49f2-b1d9-8a455f47d190",
   "metadata": {
    "executionTime": 0,
    "jupyter": {
     "outputs_hidden": false,
     "source_hidden": true
    },
    "lastSuccessfullyExecutedCode": "tree_boro_filtered = tree_boro[tree_boro['status'] == 'Alive']"
   },
   "outputs": [],
   "source": [
    "tree_boro_filtered = tree_boro[tree_boro['status'] == 'Alive']"
   ]
  },
  {
   "cell_type": "markdown",
   "id": "a1430af9-8cb7-4caf-a93a-c204e15c3cd4",
   "metadata": {},
   "source": [
    "#### Tree Species\n",
    "\n",
    "Fig. 2 shows a wordloud illustration of the living tree species present in the sample. It seems that honeylocust, pin oak, callery pear, sophora, ginkgo, japanese zelkova, littleleaf linden and london planetree are amongst the most common.\n",
    "\n",
    "For example, london planetree has a rounded canopy which provides plenty of shade during summer months while still allowing light through during winter months when its leaves drop off. The Callery pear is another popular species often seen in Manhattan's streetscape due to its ability to thrive in urban settings with minimal maintenance required. Ginkgo biloba trees thrive in sunny conditions with adequate water drainage—making them ideal candidates for planting along sidewalks or other locations throughout the city."
   ]
  },
  {
   "cell_type": "code",
   "execution_count": null,
   "id": "d062eb31-cb3e-484d-97ca-170873661e07",
   "metadata": {
    "executionTime": 0,
    "jupyter": {
     "outputs_hidden": false,
     "source_hidden": true
    },
    "lastSuccessfullyExecutedCode": "text = '\\n'.join(list(tree_boro_filtered['spc_common'].values)).replace(' ', '_').replace('\\n', ' ')"
   },
   "outputs": [],
   "source": [
    "text = '\\n'.join(list(tree_boro_filtered['spc_common'].values)).replace(' ', '_').replace('\\n', ' ')"
   ]
  },
  {
   "cell_type": "code",
   "execution_count": null,
   "id": "cebab996-5929-4c66-8c7e-86011c1af831",
   "metadata": {
    "executionTime": 0,
    "jupyter": {
     "outputs_hidden": false,
     "source_hidden": true
    },
    "lastSuccessfullyExecutedCode": "stylecloud.gen_stylecloud(text=text,\n                          icon_name='fas fa-tree',\n                          palette='colorbrewer.diverging.Spectral_11',\n                          background_color='white',\n                          gradient='vertical',\n                          collocations=False)"
   },
   "outputs": [],
   "source": [
    "stylecloud.gen_stylecloud(text=text,\n",
    "                          icon_name='fas fa-tree',\n",
    "                          palette='colorbrewer.diverging.Spectral_11',\n",
    "                          background_color='white',\n",
    "                          gradient='vertical',\n",
    "                          collocations=False)"
   ]
  },
  {
   "cell_type": "markdown",
   "id": "8edab83b-0558-44c6-b9aa-a4a74dd4f174",
   "metadata": {},
   "source": [
    "#### Fig. 2: Wordcloud of Individual Tree Species of Manhattan</b>\n",
    "\n",
    "![wordcloud](pictures/wordcloud.png)"
   ]
  },
  {
   "cell_type": "markdown",
   "id": "40493e3f-a9d1-4d52-be23-ae38e0c2fb89",
   "metadata": {},
   "source": [
    "Indeed, the absolute count of living tree species in Fig. 3 shows that, by far, honeylocust is the most common tree species with 13,175 examples. Callery pear and ginkgo occupy the second and third place respectively with approximately half of the honeylocust count. From pin oak to littleleaf linden, the number of trees hovers around 4,ooo. American elm and American linden come last at 2,000 plants per species."
   ]
  },
  {
   "cell_type": "code",
   "execution_count": null,
   "id": "68257446-310e-4ddd-a7a0-2e235944e56e",
   "metadata": {
    "executionTime": 0,
    "jupyter": {
     "outputs_hidden": false,
     "source_hidden": true
    },
    "lastSuccessfullyExecutedCode": "most_common_manhattan = (\n    tree_boro_filtered\n    .groupby('spc_common')[['tree_id']].count()\n    .sort_values('tree_id', ascending=False)\n    .rename_axis('Common Name of Tree Species')\n    .rename(columns={'tree_id': 'Absolute Count of Trees'})\n)"
   },
   "outputs": [],
   "source": [
    "most_common_manhattan = (\n",
    "    tree_boro_filtered\n",
    "    .groupby('spc_common')[['tree_id']].count()\n",
    "    .sort_values('tree_id', ascending=False)\n",
    "    .rename_axis('Common Name of Tree Species')\n",
    "    .rename(columns={'tree_id': 'Absolute Count of Trees'})\n",
    ")"
   ]
  },
  {
   "cell_type": "code",
   "execution_count": null,
   "id": "d36a734b-cf73-4abe-8ae7-65b7d2f74ff2",
   "metadata": {
    "executionTime": 100,
    "jupyter": {
     "outputs_hidden": false,
     "source_hidden": true
    },
    "lastSuccessfullyExecutedCode": "fig_1 = px.bar(\n    most_common_manhattan[:10], \n    x=most_common_manhattan[:10].index, \n    y='Absolute Count of Trees', \n    title='Fig. 3: 10 Most Common Tree Species in Manhattan',\n    labels={'index':'Common Name of Tree Species'}\n)\nfig_1.show()"
   },
   "outputs": [],
   "source": [
    "fig_1 = px.bar(\n",
    "    most_common_manhattan[:10], \n",
    "    x=most_common_manhattan[:10].index, \n",
    "    y='Absolute Count of Trees', \n",
    "    title='Fig. 3: 10 Most Common Tree Species in Manhattan',\n",
    "    labels={'index':'Common Name of Tree Species'}\n",
    ")\n",
    "fig_1.show()"
   ]
  },
  {
   "cell_type": "markdown",
   "id": "1707eb2c-f822-4c9e-aafe-55be893d555d",
   "metadata": {},
   "source": [
    "#### Tree Diameter\n",
    "\n",
    "When we look at Fig. 4, the histogram of living tree diameters at breast height irrespective of tree species, health and other parameters, the highest count is reached for 4 inches. There is a notable right skew in the data, meaning great number of trees reach much more than that, as can be seen in Fig. 8."
   ]
  },
  {
   "cell_type": "code",
   "execution_count": null,
   "id": "88eb28f5-661c-4dbe-b72a-ba3a4f4a0019",
   "metadata": {
    "executionTime": 154,
    "jupyter": {
     "outputs_hidden": false,
     "source_hidden": true
    },
    "lastSuccessfullyExecutedCode": "fig_2 = px.histogram(\n    tree_boro_filtered['tree_dbh'],\n    title='Fig. 4: Histogram of Tree Diameters At Breast Height [inch]',\n    labels={'value': 'Tree Diameters At Breast Height'}\n)\nfig_2.show()"
   },
   "outputs": [],
   "source": [
    "fig_2 = px.histogram(\n",
    "    tree_boro_filtered['tree_dbh'],\n",
    "    title='Fig. 4: Histogram of Tree Diameters At Breast Height [inch]',\n",
    "    labels={'value': 'Tree Diameters At Breast Height'}\n",
    ")\n",
    "fig_2.show()"
   ]
  },
  {
   "cell_type": "markdown",
   "id": "11704f13-1949-4c7d-8487-8534ce4e946b",
   "metadata": {},
   "source": [
    "#### Tree Health\n",
    "\n",
    "Three quarters of living trees are in good health while 18.4% are considered to be in fair  and 5.78% in poor condition."
   ]
  },
  {
   "cell_type": "code",
   "execution_count": null,
   "id": "00b42893-7d5a-49e3-b955-09eeff14e1b6",
   "metadata": {
    "chartConfig": {
     "bar": {
      "hasRoundedCorners": true,
      "stacked": false
     },
     "type": "bar",
     "version": "v1"
    },
    "executionTime": 0,
    "jupyter": {
     "outputs_hidden": false,
     "source_hidden": true
    },
    "lastSuccessfullyExecutedCode": "health_count = (\n    tree_boro_filtered.groupby('health')[['health']].count()\n    .rename_axis('Health')\n    .rename(columns={'health':'Count'})\n    .reset_index()\n)",
    "visualizeDataframe": false
   },
   "outputs": [],
   "source": [
    "health_count = (\n",
    "    tree_boro_filtered.groupby('health')[['health']].count()\n",
    "    .rename_axis('Health')\n",
    "    .rename(columns={'health':'Count'})\n",
    "    .reset_index()\n",
    ")"
   ]
  },
  {
   "cell_type": "code",
   "execution_count": null,
   "id": "4d3974c4-59db-4775-895f-c1765cd8d4f8",
   "metadata": {
    "executionTime": 92,
    "jupyter": {
     "outputs_hidden": false,
     "source_hidden": true
    },
    "lastSuccessfullyExecutedCode": "fig_3 = px.pie(\n    health_count, \n    values='Count', \n    names='Health', \n    title='Fig. 5: Fraction of Tree Health Statuses'\n)\nfig_3.show()"
   },
   "outputs": [],
   "source": [
    "fig_3 = px.pie(\n",
    "    health_count, \n",
    "    values='Count', \n",
    "    names='Health', \n",
    "    title='Fig. 5: Fraction of Tree Health Statuses'\n",
    ")\n",
    "fig_3.show()"
   ]
  },
  {
   "cell_type": "markdown",
   "id": "478a5e16-8198-480c-82cb-a40ceb32a612",
   "metadata": {},
   "source": [
    "#### Tree Location\n",
    "\n",
    "An overwhelming majority of tress (93.3%) are located on the curb."
   ]
  },
  {
   "cell_type": "code",
   "execution_count": null,
   "id": "600ede3f-567a-4c78-a774-ec9e3aaa92f3",
   "metadata": {
    "executionTime": 0,
    "jupyter": {
     "outputs_hidden": false,
     "source_hidden": true
    },
    "lastSuccessfullyExecutedCode": "curb_count = (\n    tree_boro_filtered.groupby('curb_loc')[['curb_loc']].count()\n    .rename_axis('Curb Location')\n    .rename(columns={'curb_loc':'Count'})\n    .reset_index()\n)"
   },
   "outputs": [],
   "source": [
    "curb_count = (\n",
    "    tree_boro_filtered.groupby('curb_loc')[['curb_loc']].count()\n",
    "    .rename_axis('Curb Location')\n",
    "    .rename(columns={'curb_loc':'Count'})\n",
    "    .reset_index()\n",
    ")"
   ]
  },
  {
   "cell_type": "code",
   "execution_count": null,
   "id": "b915ca99-09c5-431d-8305-76bf204d4655",
   "metadata": {
    "executionTime": 92,
    "jupyter": {
     "outputs_hidden": false,
     "source_hidden": true
    },
    "lastSuccessfullyExecutedCode": "fig_4 = px.pie(\n    curb_count, \n    values='Count', \n    names='Curb Location', \n    title='Fig. 6: Fraction of Tree Curb Locations'\n)\nfig_4.show()"
   },
   "outputs": [],
   "source": [
    "fig_4 = px.pie(\n",
    "    curb_count, \n",
    "    values='Count', \n",
    "    names='Curb Location', \n",
    "    title='Fig. 6: Fraction of Tree Curb Locations'\n",
    ")\n",
    "fig_4.show()"
   ]
  },
  {
   "cell_type": "markdown",
   "id": "ec78d9d9-89e9-4688-a2f0-e365f668d9a4",
   "metadata": {},
   "source": [
    "#### Tree Problems\n",
    "\n",
    "Significant number of tree problems labelled as 'other' irrespective of tree part are present in the dataset while the most prevalent tree problem is the presence of paving stones in the tree bed."
   ]
  },
  {
   "cell_type": "code",
   "execution_count": null,
   "id": "4b45d969-93b3-4a49-a516-b71e2c6d6aea",
   "metadata": {
    "executionTime": 113,
    "jupyter": {
     "outputs_hidden": false,
     "source_hidden": true
    },
    "lastSuccessfullyExecutedCode": "tree_problem_count = (\n    tree_boro_filtered[['root_stone', 'root_grate', 'root_other', \n                        'trunk_wire', 'trnk_light', 'trnk_other', \n                        'brch_light', 'brch_shoe', 'brch_other']]\n    .pipe(lambda df: pd.melt(df, value_vars=['root_stone', 'root_grate', 'root_other', \n                                             'trunk_wire', 'trnk_light', 'trnk_other', \n                                             'brch_light', 'brch_shoe', 'brch_other']))\n    .groupby(['variable', 'value'])[['value']].count()\n    .rename_axis(index={'variable':'Tree Problem', 'value':'Presence'})\n    .rename(columns={'value':'Count'})\n    .reset_index()\n)"
   },
   "outputs": [],
   "source": [
    "tree_problem_count = (\n",
    "    tree_boro_filtered[['root_stone', 'root_grate', 'root_other', \n",
    "                        'trunk_wire', 'trnk_light', 'trnk_other', \n",
    "                        'brch_light', 'brch_shoe', 'brch_other']]\n",
    "    .pipe(lambda df: pd.melt(df, value_vars=['root_stone', 'root_grate', 'root_other', \n",
    "                                             'trunk_wire', 'trnk_light', 'trnk_other', \n",
    "                                             'brch_light', 'brch_shoe', 'brch_other']))\n",
    "    .groupby(['variable', 'value'])[['value']].count()\n",
    "    .rename_axis(index={'variable':'Tree Problem', 'value':'Presence'})\n",
    "    .rename(columns={'value':'Count'})\n",
    "    .reset_index()\n",
    ")"
   ]
  },
  {
   "cell_type": "code",
   "execution_count": null,
   "id": "6a00c31e-6283-440f-9993-e2b9e91465a7",
   "metadata": {
    "executionTime": 74,
    "jupyter": {
     "outputs_hidden": false,
     "source_hidden": true
    },
    "lastSuccessfullyExecutedCode": "fig_5 = px.bar(tree_problem_count, \n               x=\"Tree Problem\", \n               y=\"Count\",\n               color='Presence', \n               title='Fig. 7: Count of Tree Problem Presence by Tree Problem Category')\nfig_5.show()"
   },
   "outputs": [],
   "source": [
    "fig_5 = px.bar(tree_problem_count, \n",
    "               x=\"Tree Problem\", \n",
    "               y=\"Count\",\n",
    "               color='Presence', \n",
    "               title='Fig. 7: Count of Tree Problem Presence by Tree Problem Category')\n",
    "fig_5.show()"
   ]
  },
  {
   "cell_type": "markdown",
   "id": "e6f8e375-ebcb-46d6-8d92-12a9ab985faa",
   "metadata": {},
   "source": [
    "#### Administrative Districts of Manhattan"
   ]
  },
  {
   "cell_type": "code",
   "execution_count": null,
   "id": "81301b2e-d68a-4f87-bc92-1dda7581fec9",
   "metadata": {
    "executionTime": 31214,
    "jupyter": {
     "outputs_hidden": false,
     "source_hidden": true
    },
    "lastSuccessfullyExecutedCode": "print(f'There are {len(tree_boro.postcode.drop_duplicates())} unique postcodes in Manhattan while only {len(tree_boro.ntacode.drop_duplicates())} neighborhood tabulation area (NTA) codes are present. Manhattan is composed of {len(tree_boro.ntaname.drop_duplicates())} named neighborhoods (NTA name) and delineated into {len(tree_boro.geometry.drop_duplicates())} unique shapes. There are also {len(tree_boro.shape_area.drop_duplicates())} unique shape areas. Thus, each unique NTA code corresponds to a unique NTA name, shape, and shape area.')"
   },
   "outputs": [],
   "source": [
    "print(f'There are {len(tree_boro.postcode.drop_duplicates())} unique postcodes in Manhattan while only {len(tree_boro.ntacode.drop_duplicates())} neighborhood tabulation area (NTA) codes are present. Manhattan is composed of {len(tree_boro.ntaname.drop_duplicates())} named neighborhoods (NTA name) and delineated into {len(tree_boro.geometry.drop_duplicates())} unique shapes. There are also {len(tree_boro.shape_area.drop_duplicates())} unique shape areas. Thus, each unique NTA code corresponds to a unique NTA name, shape, and shape area.')"
   ]
  },
  {
   "cell_type": "code",
   "execution_count": null,
   "id": "32547164-3119-4f3e-8c60-34dbc8e79fe4",
   "metadata": {
    "executionTime": 0,
    "jupyter": {
     "outputs_hidden": false,
     "source_hidden": true
    },
    "lastSuccessfullyExecutedCode": "admin_neigh = (\n    tree_boro.groupby(['ntacode', 'ntaname', 'shape_area'])[['geometry']]\n    .agg(lambda df: df.drop_duplicates())\n)"
   },
   "outputs": [],
   "source": [
    "admin_neigh = (\n",
    "    tree_boro.groupby(['ntacode', 'ntaname', 'shape_area'])[['geometry']]\n",
    "    .agg(lambda df: df.drop_duplicates())\n",
    ")"
   ]
  },
  {
   "cell_type": "markdown",
   "id": "d7dd1a05-3f17-4d82-a71a-d6b9ad3f904a",
   "metadata": {},
   "source": [
    "<p align=\"center\">\n",
    "  <b>Tab. 1: Table of Manhattan Neighborhoods with Their Corresponding Name, Code, Area, and Shape</b>\n",
    "</p>"
   ]
  },
  {
   "cell_type": "code",
   "execution_count": null,
   "id": "cc624322-9ee2-44af-af01-1cfe3e4eb2f3",
   "metadata": {
    "executionTime": 66,
    "jupyter": {
     "outputs_hidden": false,
     "source_hidden": true
    },
    "lastSuccessfullyExecutedCode": "admin_neigh"
   },
   "outputs": [],
   "source": [
    "admin_neigh"
   ]
  },
  {
   "cell_type": "markdown",
   "id": "b05a8fb7-e250-464a-b077-ba07603f4eb5",
   "metadata": {},
   "source": [
    "## Exploratory Analysis\n",
    "\n",
    "Trees are an essential part of a healthy urban environment. Not only do they provide shade, shelter and cleaner air, but they can also reduce noise pollution, lower temperatures and increase property values. But how do we know if a tree is healthy in an urban environment like Manhattan? \n",
    "\n",
    "In order to determine the health of a tree, there are several indicators that need to be taken into account. These include factors such as leaf color and shape, bark texture and thickness, root systems and trunk diameter. By examining these aspects of a tree's physical makeup, it is possible to visualize how healthy an individual tree may be.\n",
    "\n",
    "Additionally, looking at the environment around a tree can provide further insight into its overall health. Ambient air quality is one factor that has been identified as having an effect on the robustness of trees in urban areas like Manhattan. High levels of pollutants and particulate matter can damage leaves and stunt growth while also weakening their defenses against disease-carrying pests like aphids and scale insects. Furthermore, high temperatures can cause dehydration which can lead to poor performance during photosynthesis and oxygen production. Unfortunately, these indicators are not present in the data."
   ]
  },
  {
   "cell_type": "markdown",
   "id": "c0afe744-b818-45bc-a559-d4e144c2e58a",
   "metadata": {},
   "source": [
    "#### Is There An Association Between Tree Diameter, Health, And Location With Respect To Curb?\n",
    "\n",
    "The diameter at brest height (DBH) in inches is associated with health status and curb location, with trees offset from curb of good health having the highest median value of 10 inches while trees on the curb of poor health measuring a median of 6 inches in diameter (Fig. 8). Both trees of good and fair health have statistically significantly lower DBH when they are located on the curb."
   ]
  },
  {
   "cell_type": "code",
   "execution_count": null,
   "id": "5dee27f9-38bc-4cb9-9e97-982adce5864e",
   "metadata": {
    "executionTime": 0,
    "jupyter": {
     "outputs_hidden": false,
     "source_hidden": true
    },
    "lastSuccessfullyExecutedCode": "tree_dbh = (\n    tree_boro_filtered[['health', 'curb_loc', 'tree_dbh']]\n)"
   },
   "outputs": [],
   "source": [
    "tree_dbh = (\n",
    "    tree_boro_filtered[['health', 'curb_loc', 'tree_dbh']]\n",
    ")"
   ]
  },
  {
   "cell_type": "code",
   "execution_count": null,
   "id": "359d91c4-bec8-468e-ae5b-cbb35943ecfc",
   "metadata": {
    "executionTime": 1280,
    "jupyter": {
     "outputs_hidden": false,
     "source_hidden": true
    },
    "lastSuccessfullyExecutedCode": "fig_6 = px.box(\n    tree_dbh, \n    x='health', \n    y='tree_dbh', \n    color='curb_loc',\n    title='Fig. 8: Median Living Tree Diameter At Brest Height per Health Status and Curb Location',\n    category_orders={'health': ['Good', 'Fair', 'Poor']},\n    labels={'health': 'Health', 'tree_dbh': 'Tree Diameter At Breast Height [inch]', 'curb_loc': 'Curb Location'},\n    notched=True,\n    range_y=[0, 35]\n)\nfig_6.show()"
   },
   "outputs": [],
   "source": [
    "fig_6 = px.box(\n",
    "    tree_dbh, \n",
    "    x='health', \n",
    "    y='tree_dbh', \n",
    "    color='curb_loc',\n",
    "    title='Fig. 8: Median Living Tree Diameter At Brest Height per Health Status and Curb Location',\n",
    "    category_orders={'health': ['Good', 'Fair', 'Poor']},\n",
    "    labels={'health': 'Health', 'tree_dbh': 'Tree Diameter At Breast Height [inch]', 'curb_loc': 'Curb Location'},\n",
    "    notched=True,\n",
    "    range_y=[0, 35]\n",
    ")\n",
    "fig_6.show()"
   ]
  },
  {
   "cell_type": "markdown",
   "id": "68cc5323-34f4-4e4a-9895-924c2bcd480f",
   "metadata": {},
   "source": [
    "#### Do Tree Problems Depend On Health And Location?\n",
    "\n",
    "Mean number of tree problems, which is the presence of a root, trunk or branch problem summed, is associated with health and location with respect to curb. In all health categories and in agreement with conclusions from Fig. 7, trees located on the curb show higher mean number of tree problems than those located off the curb. While 3.3 out of 10 trees in good health off the curb exhibit 1 problem, 7.1 and 8.2 trees of fair and poor health respectively show 1 problem. For trees in good health, the number of trees having 1 problem rises the most when on the curb, in particular, up to 4.7 out of 10 trees (Fig. 9). "
   ]
  },
  {
   "cell_type": "code",
   "execution_count": null,
   "id": "0307ad82-59e9-4ca9-b63e-5565f1107efc",
   "metadata": {
    "executionTime": 2201,
    "jupyter": {
     "outputs_hidden": false,
     "source_hidden": true
    },
    "lastSuccessfullyExecutedCode": "tree_problems = (\n    tree_boro_filtered\n    .replace({'Yes': 1, 'No': 0})\n    .assign(tree_problems=lambda df: df[['root_stone', 'root_grate', 'root_other', \n                                 \t\t 'trunk_wire', 'trnk_light', 'trnk_other', \n                                 \t\t 'brch_light', 'brch_shoe', 'brch_other']].apply(np.sum, axis=1))\n    .groupby(['health', 'curb_loc'])[['tree_problems']].mean()\n    .reset_index()\n)"
   },
   "outputs": [],
   "source": [
    "tree_problems = (\n",
    "    tree_boro_filtered\n",
    "    .replace({'Yes': 1, 'No': 0})\n",
    "    .assign(tree_problems=lambda df: df[['root_stone', 'root_grate', 'root_other', \n",
    "                                 \t\t 'trunk_wire', 'trnk_light', 'trnk_other', \n",
    "                                 \t\t 'brch_light', 'brch_shoe', 'brch_other']].apply(np.sum, axis=1))\n",
    "    .groupby(['health', 'curb_loc'])[['tree_problems']].mean()\n",
    "    .reset_index()\n",
    ")"
   ]
  },
  {
   "cell_type": "code",
   "execution_count": null,
   "id": "3f9f4390-d0c5-4cfc-8f77-381226f7240a",
   "metadata": {
    "executionTime": 92,
    "jupyter": {
     "outputs_hidden": false,
     "source_hidden": true
    },
    "lastSuccessfullyExecutedCode": "fig_7 = px.bar(\n    tree_problems, \n    x='health', \n    y='tree_problems', \n    color='curb_loc',\n    title='Fig. 9: Mean Number of Tree Problems per Health',\n    category_orders={'health': ['Good', 'Fair', 'Poor']},\n    labels={'health': 'Health', 'tree_problems': 'Tree Problems', 'curb_loc':'Curb Location'},\n    barmode='group'\n)\nfig_7.show()"
   },
   "outputs": [],
   "source": [
    "fig_7 = px.bar(\n",
    "    tree_problems, \n",
    "    x='health', \n",
    "    y='tree_problems', \n",
    "    color='curb_loc',\n",
    "    title='Fig. 9: Mean Number of Tree Problems per Health',\n",
    "    category_orders={'health': ['Good', 'Fair', 'Poor']},\n",
    "    labels={'health': 'Health', 'tree_problems': 'Tree Problems', 'curb_loc':'Curb Location'},\n",
    "    barmode='group'\n",
    ")\n",
    "fig_7.show()"
   ]
  },
  {
   "cell_type": "code",
   "execution_count": null,
   "id": "1e20f78e-4869-4c99-ace0-cc6d66c364f6",
   "metadata": {
    "executionTime": 306,
    "jupyter": {
     "outputs_hidden": false,
     "source_hidden": true
    },
    "lastSuccessfullyExecutedCode": "weighted_health_dbh = (\n    tree_boro_filtered\n    .replace({'Good': 3, 'Fair': 2, 'Poor': 1})\n    .groupby(['ntaname'])[['health','tree_dbh']].agg([np.mean, 'count'])\n    .assign(Health=lambda df: df['health']['mean'] * (df['health']['count'] / 62427))\n    .assign(Tree_DBH=lambda df: df['tree_dbh']['mean'] * (df['tree_dbh']['count'] / 62427))\n    .drop(['health', 'tree_dbh'], axis=1)\n    .reset_index()\n)"
   },
   "outputs": [],
   "source": [
    "weighted_health_dbh = (\n",
    "    tree_boro_filtered\n",
    "    .replace({'Good': 3, 'Fair': 2, 'Poor': 1})\n",
    "    .groupby(['ntaname'])[['health','tree_dbh']].agg([np.mean, 'count'])\n",
    "    .assign(Health=lambda df: df['health']['mean'] * (df['health']['count'] / 62427))\n",
    "    .assign(Tree_DBH=lambda df: df['tree_dbh']['mean'] * (df['tree_dbh']['count'] / 62427))\n",
    "    .drop(['health', 'tree_dbh'], axis=1)\n",
    "    .reset_index()\n",
    ")"
   ]
  },
  {
   "cell_type": "markdown",
   "id": "b4c61a8a-8daa-4707-b1ec-b88cf38c344e",
   "metadata": {},
   "source": [
    "#### Are Trees In Certain Manhattan Neighborhoods Healthier Than In Others?\n",
    "\n",
    "First, let's look at which neighborhoods have the most amount of trees. Most of Harlem seems to occupy the first places."
   ]
  },
  {
   "cell_type": "code",
   "execution_count": null,
   "id": "91265c95-ceee-47c4-90da-0d0f6ef79c5e",
   "metadata": {
    "executionTime": 0,
    "jupyter": {
     "outputs_hidden": false,
     "source_hidden": true
    },
    "lastSuccessfullyExecutedCode": "boro_most_trees = (\n    tree_boro\n    .groupby(['ntaname','shape_area'])[['tree_id']].count()\n    [:10]\n    .sort_values('tree_id', ascending=False)\n    .rename_axis(['New York Neighborhood Names','Neighborhood Area [feet\\u00b2]'])\n    .rename(columns={'tree_id': 'Count of Trees'})\n    .reset_index()\n    .assign(CountPerSquareFeet=lambda df: df['Count of Trees'] / df['Neighborhood Area [feet\\u00b2]'])\n    .drop('Neighborhood Area [feet\\u00b2]', axis=1)\n)"
   },
   "outputs": [],
   "source": [
    "boro_most_trees = (\n",
    "    tree_boro\n",
    "    .groupby(['ntaname','shape_area'])[['tree_id']].count()\n",
    "    [:10]\n",
    "    .sort_values('tree_id', ascending=False)\n",
    "    .rename_axis(['New York Neighborhood Names','Neighborhood Area [feet\\u00b2]'])\n",
    "    .rename(columns={'tree_id': 'Count of Trees'})\n",
    "    .reset_index()\n",
    "    .assign(CountPerSquareFeet=lambda df: df['Count of Trees'] / df['Neighborhood Area [feet\\u00b2]'])\n",
    "    .drop('Neighborhood Area [feet\\u00b2]', axis=1)\n",
    ")"
   ]
  },
  {
   "cell_type": "code",
   "execution_count": null,
   "id": "ce811c26-6774-463e-8612-403bbe696077",
   "metadata": {
    "executionTime": 89,
    "jupyter": {
     "outputs_hidden": false,
     "source_hidden": true
    },
    "lastSuccessfullyExecutedCode": "fig_8a = px.bar(\n    boro_most_trees, \n    x='New York Neighborhood Names', \n    y='Count of Trees', \n    title='Fig. 10a: 10 Manhattan Neighborhoods with the Highest Absolute Number of Trees'\n)\nfig_8a.show()"
   },
   "outputs": [],
   "source": [
    "fig_8a = px.bar(\n",
    "    boro_most_trees, \n",
    "    x='New York Neighborhood Names', \n",
    "    y='Count of Trees', \n",
    "    title='Fig. 10a: 10 Manhattan Neighborhoods with the Highest Absolute Number of Trees'\n",
    ")\n",
    "fig_8a.show()"
   ]
  },
  {
   "cell_type": "markdown",
   "id": "0463d340-d39b-456c-9857-5288738bba39",
   "metadata": {},
   "source": [
    "However, when normalized per feet<sup>2</sup>, the sequence completely changes, except for Central Harlem South still keeping one of the top places while Gramercy and East Village jump ahead."
   ]
  },
  {
   "cell_type": "code",
   "execution_count": null,
   "id": "46cd2fe8-6eff-49d7-8e0c-d238a926874a",
   "metadata": {
    "executionTime": 96,
    "jupyter": {
     "outputs_hidden": false,
     "source_hidden": true
    },
    "lastSuccessfullyExecutedCode": "fig_8b = px.bar(\n    boro_most_trees.sort_values(by='CountPerSquareFeet', ascending=False), \n    x='New York Neighborhood Names', \n    y='CountPerSquareFeet', \n    title='Fig. 10b: 10 Manhattan Neighborhoods with the Highest Count of Trees per Feet\\u00b2',\n    labels={'CountPerSquareFeet': 'Count Per Feet\\u00b2'}\n)\nfig_8b.show()"
   },
   "outputs": [],
   "source": [
    "fig_8b = px.bar(\n",
    "    boro_most_trees.sort_values(by='CountPerSquareFeet', ascending=False), \n",
    "    x='New York Neighborhood Names', \n",
    "    y='CountPerSquareFeet', \n",
    "    title='Fig. 10b: 10 Manhattan Neighborhoods with the Highest Count of Trees per Feet\\u00b2',\n",
    "    labels={'CountPerSquareFeet': 'Count Per Feet\\u00b2'}\n",
    ")\n",
    "fig_8b.show()"
   ]
  },
  {
   "cell_type": "markdown",
   "id": "4778cf07-cfb8-45ec-859a-7c32767fc1eb",
   "metadata": {},
   "source": [
    "To find out which neigborhoods have the healthiest trees, 'Good' health was assigned 3, 'Fair' 2, and 'Poor' 1. Subsequently, mean values for the neigborhood were multiplied by a weight, the percentage of trees they have within their borders out of all trees on Manhattan, in order to produce weighted mean. The top 10 results are shown below in Fig. 11."
   ]
  },
  {
   "cell_type": "code",
   "execution_count": null,
   "id": "a36e057a-6685-46e3-b452-f628c8075d7c",
   "metadata": {
    "executionTime": 0,
    "jupyter": {
     "outputs_hidden": false,
     "source_hidden": true
    },
    "lastSuccessfullyExecutedCode": "weighted_health = weighted_health_dbh[['ntaname', 'Health']].sort_values(by='Health', ascending=False)[:10]"
   },
   "outputs": [],
   "source": [
    "weighted_health = weighted_health_dbh[['ntaname', 'Health']].sort_values(by='Health', ascending=False)[:10]"
   ]
  },
  {
   "cell_type": "code",
   "execution_count": null,
   "id": "d76677fa-0747-4099-adc9-2b3b8c856cb7",
   "metadata": {
    "executionTime": 100,
    "jupyter": {
     "outputs_hidden": false,
     "source_hidden": true
    },
    "lastSuccessfullyExecutedCode": "fig_9 = px.bar(\n    weighted_health, \n    x='ntaname', \n    y='Health', \n    title='Fig. 11: 10 Manhattan Neighborhoods with Highest Weighted Mean Health of Trees',\n    labels={'ntaname': 'Neighborhood Name', 'Health': 'Weighted Mean Health'}\n)\nfig_9.show()"
   },
   "outputs": [],
   "source": [
    "fig_9 = px.bar(\n",
    "    weighted_health, \n",
    "    x='ntaname', \n",
    "    y='Health', \n",
    "    title='Fig. 11: 10 Manhattan Neighborhoods with Highest Weighted Mean Health of Trees',\n",
    "    labels={'ntaname': 'Neighborhood Name', 'Health': 'Weighted Mean Health'}\n",
    ")\n",
    "fig_9.show()"
   ]
  },
  {
   "cell_type": "markdown",
   "id": "6b9d951b-f658-48b3-8081-a4c7acfc0795",
   "metadata": {},
   "source": [
    "Similar results were obtained for a weighted mean of tree diameter at breast heaight, the main indicator of good health. Except for 1 neighborhood, the top 10 is almost the same, albeit the sequence changed."
   ]
  },
  {
   "cell_type": "code",
   "execution_count": null,
   "id": "ccdae541-0115-4179-aa44-3ff9d1757317",
   "metadata": {
    "executionTime": 0,
    "jupyter": {
     "outputs_hidden": false,
     "source_hidden": true
    },
    "lastSuccessfullyExecutedCode": "weighted_dbh = weighted_health_dbh[['ntaname', 'Tree_DBH']].sort_values(by='Tree_DBH', ascending=False)[:10]"
   },
   "outputs": [],
   "source": [
    "weighted_dbh = weighted_health_dbh[['ntaname', 'Tree_DBH']].sort_values(by='Tree_DBH', ascending=False)[:10]"
   ]
  },
  {
   "cell_type": "code",
   "execution_count": null,
   "id": "b931f7ba-7822-4c45-b2ea-9ecddad5df89",
   "metadata": {
    "executionTime": 96,
    "jupyter": {
     "outputs_hidden": false,
     "source_hidden": true
    },
    "lastSuccessfullyExecutedCode": "fig_10 = px.bar(\n    weighted_dbh, \n    x='ntaname', \n    y='Tree_DBH', \n    title='Fig. 12: 10 Manhattan Neighborhoods with Highest Weighted Mean DBH of Trees',\n    labels={'ntaname': 'Neighborhood Name', 'Tree_DBH': 'Weighted Mean Tree DBH [inch]'}\n)\nfig_10.show()"
   },
   "outputs": [],
   "source": [
    "fig_10 = px.bar(\n",
    "    weighted_dbh, \n",
    "    x='ntaname', \n",
    "    y='Tree_DBH', \n",
    "    title='Fig. 12: 10 Manhattan Neighborhoods with Highest Weighted Mean DBH of Trees',\n",
    "    labels={'ntaname': 'Neighborhood Name', 'Tree_DBH': 'Weighted Mean Tree DBH [inch]'}\n",
    ")\n",
    "fig_10.show()"
   ]
  },
  {
   "cell_type": "markdown",
   "id": "1815d96f-f3b2-4576-a947-940c97e7e9f7",
   "metadata": {},
   "source": [
    "Referencing back to how curb location is associated with indicators of health (Fig. 8 and Fig. 9), a plot of top 10 neighborhoods with highest count of trees off the curb normalized per feet<sup>2</sup> is shown below. It isn't the same as the top ten neighborhoods by other health measures (Fig. 11 and Fig. 12), but it shows that in some neighborhoods, the count of trees offset from curb makes up around 10% (Upper West Side) while in others (Cooper Village), it reaches more than 50%."
   ]
  },
  {
   "cell_type": "code",
   "execution_count": null,
   "id": "6150491e-c93c-4cdd-8baf-7eb49b3ea554",
   "metadata": {
    "executionTime": 0,
    "jupyter": {
     "outputs_hidden": false,
     "source_hidden": true
    },
    "lastSuccessfullyExecutedCode": "boro_curb_loc = (\n    tree_boro_filtered.groupby(['ntaname', 'shape_area', 'curb_loc'])[['curb_loc']].count()\n    .rename(columns={'curb_loc': 'Count'})\n    .rename_axis(index={'ntaname':'Neighborhood Name', 'curb_loc':'Curb Location', \n                        'shape_area': 'Neighborhood Area [square feet]'})\n    .reset_index()\n    .assign(CountPerSquareFeet=lambda df: df['Count'] / df['Neighborhood Area [square feet]'])\n    .sort_values(\n        by=['Curb Location', 'CountPerSquareFeet'], \n        ascending=[True, False], \n        ignore_index=True)\n    .loc[lambda row: row['Neighborhood Name'].isin(list(row.iloc[:10, 0].values))]\n)"
   },
   "outputs": [],
   "source": [
    "boro_curb_loc = (\n",
    "    tree_boro_filtered.groupby(['ntaname', 'shape_area', 'curb_loc'])[['curb_loc']].count()\n",
    "    .rename(columns={'curb_loc': 'Count'})\n",
    "    .rename_axis(index={'ntaname':'Neighborhood Name', 'curb_loc':'Curb Location', \n",
    "                        'shape_area': 'Neighborhood Area [square feet]'})\n",
    "    .reset_index()\n",
    "    .assign(CountPerSquareFeet=lambda df: df['Count'] / df['Neighborhood Area [square feet]'])\n",
    "    .sort_values(\n",
    "        by=['Curb Location', 'CountPerSquareFeet'], \n",
    "        ascending=[True, False], \n",
    "        ignore_index=True)\n",
    "    .loc[lambda row: row['Neighborhood Name'].isin(list(row.iloc[:10, 0].values))]\n",
    ")"
   ]
  },
  {
   "cell_type": "code",
   "execution_count": null,
   "id": "37c347de-ce85-41f6-8843-28d7e8b701da",
   "metadata": {
    "executionTime": 105,
    "jupyter": {
     "outputs_hidden": false,
     "source_hidden": true
    },
    "lastSuccessfullyExecutedCode": "fig_11 = px.bar(boro_curb_loc, \n               x=\"Neighborhood Name\", \n               y=\"CountPerSquareFeet\", \n               color='Curb Location',\n               title='Fig. 13: Top 10 Count of Trees Offset From Curb Per Feet\\u00b2 in Manhattan Neighborhoods', \n               category_orders={'Neighborhood Name': \n                                list(boro_curb_loc['Neighborhood Name'].values),\n                                'Curb Location': ['OnCurb', 'OffsetFromCurb']},               \n               color_discrete_sequence=['grey', 'green'],\n               labels={'CountPerSquareFeet':'Count Per Feet\\u00b2'})\nfig_11.show()"
   },
   "outputs": [],
   "source": [
    "fig_11 = px.bar(boro_curb_loc, \n",
    "               x=\"Neighborhood Name\", \n",
    "               y=\"CountPerSquareFeet\", \n",
    "               color='Curb Location',\n",
    "               title='Fig. 13: Top 10 Count of Trees Offset From Curb Per Feet\\u00b2 in Manhattan Neighborhoods', \n",
    "               category_orders={'Neighborhood Name': \n",
    "                                list(boro_curb_loc['Neighborhood Name'].values),\n",
    "                                'Curb Location': ['OnCurb', 'OffsetFromCurb']},               \n",
    "               color_discrete_sequence=['grey', 'green'],\n",
    "               labels={'CountPerSquareFeet':'Count Per Feet\\u00b2'})\n",
    "fig_11.show()"
   ]
  },
  {
   "cell_type": "markdown",
   "id": "56233206-c605-401e-ad3e-a74cc33887c8",
   "metadata": {},
   "source": [
    "#### What Can Dead Trees Tell Us About Their Fate?\n",
    "\n",
    "In comparison with living trees in Fig. 6, the pie chart shows that dead trees are slightly more frequently located on the curb."
   ]
  },
  {
   "cell_type": "code",
   "execution_count": null,
   "id": "58026164-23b9-4a7f-9588-b06e10b282df",
   "metadata": {
    "executionTime": 0,
    "jupyter": {
     "outputs_hidden": false,
     "source_hidden": true
    },
    "lastSuccessfullyExecutedCode": "dead_curb_loc = (\n    tree_boro[tree_boro['status'] == 'Dead'].groupby('curb_loc')[['curb_loc']].count()\n    .rename_axis('Curb Location')\n    .rename(columns={'curb_loc':'Count'})\n    .reset_index()\n)"
   },
   "outputs": [],
   "source": [
    "dead_curb_loc = (\n",
    "    tree_boro[tree_boro['status'] == 'Dead'].groupby('curb_loc')[['curb_loc']].count()\n",
    "    .rename_axis('Curb Location')\n",
    "    .rename(columns={'curb_loc':'Count'})\n",
    "    .reset_index()\n",
    ")"
   ]
  },
  {
   "cell_type": "code",
   "execution_count": null,
   "id": "19b92df3-79f3-45a1-a357-54a9aa858b72",
   "metadata": {
    "executionTime": 77,
    "jupyter": {
     "outputs_hidden": false,
     "source_hidden": true
    },
    "lastSuccessfullyExecutedCode": "fig_12 = px.pie(\n    dead_curb_loc, \n    values='Count', \n    names='Curb Location', \n    title='Fig. 14: Fraction of Dead Tree Curb Locations'\n)\nfig_12.show()"
   },
   "outputs": [],
   "source": [
    "fig_12 = px.pie(\n",
    "    dead_curb_loc, \n",
    "    values='Count', \n",
    "    names='Curb Location', \n",
    "    title='Fig. 14: Fraction of Dead Tree Curb Locations'\n",
    ")\n",
    "fig_12.show()"
   ]
  },
  {
   "cell_type": "markdown",
   "id": "ee42b93b-679b-4078-ab4a-6fabb01d79de",
   "metadata": {},
   "source": [
    "With respect to Fig. 13 depicting the top 10 neighborhoods with most trees offset from the curb per feet<sup>2</sup>, the top 10 neighborhoods with least amount of dead trees per feet<sup>2</sup> looks different in half of the items while 5 neighborhoods are the same, with Cooper Village still occupying the first place. Therefore, other factors play role in the tree death other than the location with respect to the curb, which are unfortunately unavailable in the data for dead trees.\n",
    "\n",
    "In general, the trees in Manhattan are dying due to several factors including the urban heat island effect (that causes higher temperatures due to urbanization and human activities, leading to extreme weather events), soil compaction (there isn’t enough space for oxygen or water to move through soil freely, depriving them of essential nutrients and moisture), invasive species, and poor maintenance practices (trees require regular pruning and trimming in order to stay healthy)."
   ]
  },
  {
   "cell_type": "code",
   "execution_count": null,
   "id": "61fcb905-82b3-4d89-80ab-29aa0741b946",
   "metadata": {
    "executionTime": 0,
    "jupyter": {
     "outputs_hidden": false,
     "source_hidden": true
    },
    "lastSuccessfullyExecutedCode": "boro_status = (\n    tree_boro.groupby(['ntaname', 'shape_area','status'])[['status']].count()\n    .rename(columns={'status':'Count'})\n    .rename_axis(index={'ntaname':'Neighborhood Name', \n                        'status':'Status',\n                        'shape_area':'Neighborhood Area [square feet]'})\n    .reset_index()\n    .assign(CountPerSquareFeet=lambda df: df['Count'] / df['Neighborhood Area [square feet]'])\n    .sort_values(\n        by=['Status', 'CountPerSquareFeet'], \n        ascending=[False, True], \n        ignore_index=True)\n    .loc[lambda row: row['Neighborhood Name'].isin(list(row.iloc[:10, 0].values))]\n)"
   },
   "outputs": [],
   "source": [
    "boro_status = (\n",
    "    tree_boro.groupby(['ntaname', 'shape_area','status'])[['status']].count()\n",
    "    .rename(columns={'status':'Count'})\n",
    "    .rename_axis(index={'ntaname':'Neighborhood Name', \n",
    "                        'status':'Status',\n",
    "                        'shape_area':'Neighborhood Area [square feet]'})\n",
    "    .reset_index()\n",
    "    .assign(CountPerSquareFeet=lambda df: df['Count'] / df['Neighborhood Area [square feet]'])\n",
    "    .sort_values(\n",
    "        by=['Status', 'CountPerSquareFeet'], \n",
    "        ascending=[False, True], \n",
    "        ignore_index=True)\n",
    "    .loc[lambda row: row['Neighborhood Name'].isin(list(row.iloc[:10, 0].values))]\n",
    ")"
   ]
  },
  {
   "cell_type": "code",
   "execution_count": null,
   "id": "b6e470d6-08be-465e-ad6d-fd88a50d4f30",
   "metadata": {
    "executionTime": 98,
    "jupyter": {
     "outputs_hidden": false,
     "source_hidden": true
    },
    "lastSuccessfullyExecutedCode": "fig_13 = px.bar(boro_status, \n               x=\"Neighborhood Name\", \n               y=\"CountPerSquareFeet\", \n               color='Status',\n               title='Fig. 15: Top 10 Count of Dead vs Alive Per Feet\\u00b2 in Manhattan Neighborhoods', \n               category_orders={'Neighborhood Name': \n                                list(boro_status['Neighborhood Name'].values),\n                                'Status': ['Alive', 'Dead']},               \n               color_discrete_sequence=['white', 'black'],\n               labels={'CountPerSquareFeet':'Count Per Feet\\u00b2'})\nfig_13.show()"
   },
   "outputs": [],
   "source": [
    "fig_13 = px.bar(boro_status, \n",
    "               x=\"Neighborhood Name\", \n",
    "               y=\"CountPerSquareFeet\", \n",
    "               color='Status',\n",
    "               title='Fig. 15: Top 10 Count of Dead vs Alive Per Feet\\u00b2 in Manhattan Neighborhoods', \n",
    "               category_orders={'Neighborhood Name': \n",
    "                                list(boro_status['Neighborhood Name'].values),\n",
    "                                'Status': ['Alive', 'Dead']},               \n",
    "               color_discrete_sequence=['white', 'black'],\n",
    "               labels={'CountPerSquareFeet':'Count Per Feet\\u00b2'})\n",
    "fig_13.show()"
   ]
  },
  {
   "cell_type": "markdown",
   "id": "16763eb4-33e6-4711-8e29-2e8b7458ff09",
   "metadata": {},
   "source": [
    "## Map Of Manhattan's Neighborhoods And Tree Locations\n",
    "\n",
    "Let's take a closer look at how Manhattan's trees are scattered throughout the borough in Fig. 16. \n",
    "\n",
    "Interestingly enough, tree-lined streets are not as common in Manhattan as you might think. Tree distribution is based on geography—the further east or south you go in Manhattan, the fewer trees you will find and the lower health status they have. This phenomenon is attributed to differences in soil quality and density; for instance, lower-lying parts of the borough contain sandy soils which prevent roots from taking hold and growing deep enough for large tree growth. In addition, many areas near the waterfront have been paved over due to rising sea levels and coastal flooding concerns—which makes it difficult for new tree growth. \n",
    "\n",
    "South of Central Park, particularly where Broadway goes through Midtown and Union Square towards Lower Manhattan, both westward and eastward streets are almost devoid of trees. Of note, in especially pollutant-exposed areas like Lincoln Tunnel, Port Authority Bus Terminal, Madison Square Park or the surroundings of Trans-Manhattan Expressway, either dead or living trees of fair and poor quality occur. On the other hand, refering back to Fig. 11, 12, and 13, Upper East Side, Upper West Side and West Village appear to be locations where trees thrive, as well as Cooper Village, although small in side, having the largest proportion of trees off the curb per feet<sup>2</sup> and least amount of dead trees as per Fig. 15, perhaps due to its unique nature. "
   ]
  },
  {
   "cell_type": "code",
   "execution_count": null,
   "id": "18aae7b2-e8c6-4de3-8c77-62208e0dd483",
   "metadata": {
    "executionTime": 0,
    "jupyter": {
     "outputs_hidden": false,
     "source_hidden": true
    },
    "lastSuccessfullyExecutedCode": "trees.loc[trees['health'].isna(), 'health'] = 'Dead'\ntrees.loc[trees['spc_common'].isna(), 'spc_common'] = 'Not Known'"
   },
   "outputs": [],
   "source": [
    "trees.loc[trees['health'].isna(), 'health'] = 'Dead'\n",
    "trees.loc[trees['spc_common'].isna(), 'spc_common'] = 'Not Known'"
   ]
  },
  {
   "cell_type": "code",
   "execution_count": null,
   "id": "414ce744-6f2a-4a2a-adaf-d6cb7448e985",
   "metadata": {
    "executionTime": 239,
    "jupyter": {
     "outputs_hidden": false,
     "source_hidden": true
    },
    "lastSuccessfullyExecutedCode": "fig_14 = (\n    px.scatter_mapbox(\n        trees,\n        title='Fig. 16: Location Of Trees By Health Within Neighborhood Borders of Manhattan',\n        lat=\"latitude\",\n        lon=\"longitude\",\n        color=\"health\",\n        category_orders={'health':['Good', 'Fair', 'Poor', 'Dead']},\n        color_discrete_sequence=['green', 'yellow', 'red', 'black'],\n        hover_data=[\"nta_name\", \"spc_common\", \"curb_loc\"],\n        labels={'health': 'Health', \n                'spc_common':'Tree Species', \n                'curb_loc':'Curb Location', \n                'nta_name':'Neighborhood Name',\n                'latitude':'Latitude',\n                'longitude':'Longitude'},\n    )\n    .update_traces(marker={'size':4})\n    .update_layout(\n        mapbox={\n            \"style\": \"open-street-map\",\n            \"zoom\": 10,\n            \"layers\": [\n                {\n                    \"source\": json.loads(neighborhoods.query('boroname == \"Manhattan\"').geometry.to_json()),\n                    \"type\": \"line\",\n                    \"color\": \"grey\",\n                    \"line\": {\"width\": 2},\n                }\n            ],\n        },\n        margin={\"l\": 0, \"r\": 0, \"t\": 40, \"b\": 0},\n    )\n)\nfig_14.show()"
   },
   "outputs": [],
   "source": [
    "fig_14 = (\n",
    "    px.scatter_mapbox(\n",
    "        trees,\n",
    "        title='Fig. 16: Location Of Trees By Health Within Neighborhood Borders of Manhattan',\n",
    "        lat=\"latitude\",\n",
    "        lon=\"longitude\",\n",
    "        color=\"health\",\n",
    "        category_orders={'health':['Good', 'Fair', 'Poor', 'Dead']},\n",
    "        color_discrete_sequence=['green', 'yellow', 'red', 'black'],\n",
    "        hover_data=[\"nta_name\", \"spc_common\", \"curb_loc\"],\n",
    "        labels={'health': 'Health', \n",
    "                'spc_common':'Tree Species', \n",
    "                'curb_loc':'Curb Location', \n",
    "                'nta_name':'Neighborhood Name',\n",
    "                'latitude':'Latitude',\n",
    "                'longitude':'Longitude'},\n",
    "    )\n",
    "    .update_traces(marker={'size':4})\n",
    "    .update_layout(\n",
    "        mapbox={\n",
    "            \"style\": \"open-street-map\",\n",
    "            \"zoom\": 10,\n",
    "            \"layers\": [\n",
    "                {\n",
    "                    \"source\": json.loads(neighborhoods.query('boroname == \"Manhattan\"').geometry.to_json()),\n",
    "                    \"type\": \"line\",\n",
    "                    \"color\": \"grey\",\n",
    "                    \"line\": {\"width\": 2},\n",
    "                }\n",
    "            ],\n",
    "        },\n",
    "        margin={\"l\": 0, \"r\": 0, \"t\": 40, \"b\": 0},\n",
    "    )\n",
    ")\n",
    "fig_14.show()"
   ]
  },
  {
   "cell_type": "markdown",
   "id": "5c6ad6fa-04b7-408f-9291-07721225abcb",
   "metadata": {},
   "source": [
    "## What Ten Tree Species Would Be Best For The City To Plant In The Future?\n",
    "\n",
    "With 8.6 million people calling it home, Manhattan is one of the most densely populated places in the world. This means that nature can often take a backseat to the hustle and bustle of city life. However, maintaining a healthy balance between urban life and nature is essential for keeping any city livable, especially in times of climate change. \n",
    "\n",
    "As previously mentinoed, the urban design team believes trunk diameter and health are the most desirable characteristics of city trees. Indeed, Fig. 8 shows and association of trunk diameter with health. Furthermore, tree diameter was also negatively correlated with location on the curb for 'Good' and 'Fair' health category. Additionally, Fig. 9 demonstrates that location on the curb is connected to more overall tree problem count for all health categories. Fig. 11 and Fig. 12 also depict that certain Manhattan neighborhoods have healthier trees with greater trunk diameter. \n",
    "\n",
    "So, which tree species should Manhattan plant? Let’s explore this question further. "
   ]
  },
  {
   "cell_type": "code",
   "execution_count": null,
   "id": "5d81fd7a-23ce-4025-9424-aff214cdf8be",
   "metadata": {
    "executionTime": 0,
    "jupyter": {
     "outputs_hidden": false,
     "source_hidden": true
    },
    "lastSuccessfullyExecutedCode": "fig_15 = px.box(\n    tree_boro_filtered, \n    x='spc_common', \n    y='tree_dbh', \n    color='curb_loc',\n    title='Fig. 17: Median Living Tree Diameter At Brest Height per Tree Species and Curb Location',\n    category_orders={'spc_common': most_common_manhattan.index},\n    labels={'spc_common': 'Tree Species', 'tree_dbh': 'Median Tree Diameter At Breast Height [inch]', 'curb_loc': 'Curb Location'},\n    notched=True,\n    range_y=[0, 50],\n    range_x=[-0.5, 19.5]\n)\nfig_15.show()"
   },
   "outputs": [],
   "source": [
    "fig_15 = px.box(\n",
    "    tree_boro_filtered, \n",
    "    x='spc_common', \n",
    "    y='tree_dbh', \n",
    "    color='curb_loc',\n",
    "    title='Fig. 17: Median Living Tree Diameter At Brest Height per Tree Species and Curb Location',\n",
    "    category_orders={'spc_common': most_common_manhattan.index},\n",
    "    labels={'spc_common': 'Tree Species', 'tree_dbh': 'Median Tree Diameter At Breast Height [inch]', 'curb_loc': 'Curb Location'},\n",
    "    notched=True,\n",
    "    range_y=[0, 50],\n",
    "    range_x=[-0.5, 19.5]\n",
    ")\n",
    "fig_15.show()"
   ]
  },
  {
   "cell_type": "code",
   "execution_count": null,
   "id": "e29b393f-d3e9-44ac-a75d-2c9acf3d8ea6",
   "metadata": {
    "executionTime": 0,
    "jupyter": {
     "outputs_hidden": false,
     "source_hidden": true
    },
    "lastSuccessfullyExecutedCode": "species_health = (\n    tree_boro_filtered.replace({'Good': 3, 'Fair': 2, 'Poor': 1}).groupby(['spc_common','curb_loc'])[['health']].mean()\n    .reset_index()\n)"
   },
   "outputs": [],
   "source": [
    "species_health = (\n",
    "    tree_boro_filtered.replace({'Good': 3, 'Fair': 2, 'Poor': 1}).groupby(['spc_common','curb_loc'])[['health']].mean()\n",
    "    .reset_index()\n",
    ")"
   ]
  },
  {
   "cell_type": "code",
   "execution_count": null,
   "id": "8095556c-073e-4973-bbfd-b868032d1cad",
   "metadata": {
    "executionTime": 109,
    "jupyter": {
     "outputs_hidden": false,
     "source_hidden": true
    },
    "lastSuccessfullyExecutedCode": "fig_16 = px.bar(\n    species_health, \n    x='spc_common', \n    y='health', \n    color='curb_loc',\n    title='Fig. 18: Mean Living Tree Health per Tree Species and Curb Location',\n    category_orders={'spc_common': most_common_manhattan.index, 'curb_loc': ['OnCurb','OffsetFromCurb']},\n    labels={'spc_common': 'Tree Species', 'health': 'Mean Health', 'curb_loc': 'Curb Location'},\n    barmode='group',\n    range_x=[-0.5, 19.5]\n)\nfig_16.show()"
   },
   "outputs": [],
   "source": [
    "fig_16 = px.bar(\n",
    "    species_health, \n",
    "    x='spc_common', \n",
    "    y='health', \n",
    "    color='curb_loc',\n",
    "    title='Fig. 18: Mean Living Tree Health per Tree Species and Curb Location',\n",
    "    category_orders={'spc_common': most_common_manhattan.index, 'curb_loc': ['OnCurb','OffsetFromCurb']},\n",
    "    labels={'spc_common': 'Tree Species', 'health': 'Mean Health', 'curb_loc': 'Curb Location'},\n",
    "    barmode='group',\n",
    "    range_x=[-0.5, 19.5]\n",
    ")\n",
    "fig_16.show()"
   ]
  },
  {
   "cell_type": "code",
   "execution_count": null,
   "id": "f06e5be1-396c-4df4-849c-807cdd0d5053",
   "metadata": {
    "executionTime": 0,
    "jupyter": {
     "outputs_hidden": false,
     "source_hidden": true
    },
    "lastSuccessfullyExecutedCode": "species_problems = (\n    tree_boro_filtered\n    .replace({'Yes': 1, 'No': 0})\n    .assign(tree_problems=lambda df: df[['root_stone', 'root_grate', 'root_other', \n                                 \t\t 'trunk_wire', 'trnk_light', 'trnk_other', \n                                 \t\t 'brch_light', 'brch_shoe', 'brch_other']].apply(np.sum, axis=1))\n    .groupby(['spc_common','curb_loc'])[['tree_problems']].mean()\n    .reset_index()\n)"
   },
   "outputs": [],
   "source": [
    "species_problems = (\n",
    "    tree_boro_filtered\n",
    "    .replace({'Yes': 1, 'No': 0})\n",
    "    .assign(tree_problems=lambda df: df[['root_stone', 'root_grate', 'root_other', \n",
    "                                 \t\t 'trunk_wire', 'trnk_light', 'trnk_other', \n",
    "                                 \t\t 'brch_light', 'brch_shoe', 'brch_other']].apply(np.sum, axis=1))\n",
    "    .groupby(['spc_common','curb_loc'])[['tree_problems']].mean()\n",
    "    .reset_index()\n",
    ")"
   ]
  },
  {
   "cell_type": "code",
   "execution_count": null,
   "id": "b95535d7-f09b-49e0-9c0b-8dc71043f8dc",
   "metadata": {
    "executionTime": 121,
    "jupyter": {
     "outputs_hidden": false,
     "source_hidden": true
    },
    "lastSuccessfullyExecutedCode": "fig_17 = px.bar(\n    species_problems, \n    x='spc_common', \n    y='tree_problems', \n    color='curb_loc',\n    title='Fig. 19: Mean Number of Tree Problems per Tree Species and Curb Location',\n    category_orders={'spc_common': most_common_manhattan.index, 'curb_loc': ['OnCurb','OffsetFromCurb']},\n    labels={'spc_common': 'Tree Species', 'tree_problems': 'Tree Problems', 'curb_loc': 'Curb Location'},\n    barmode='group',\n    range_x=[-0.5, 19.5]\n)\nfig_17.show()"
   },
   "outputs": [],
   "source": [
    "fig_17 = px.bar(\n",
    "    species_problems, \n",
    "    x='spc_common', \n",
    "    y='tree_problems', \n",
    "    color='curb_loc',\n",
    "    title='Fig. 19: Mean Number of Tree Problems per Tree Species and Curb Location',\n",
    "    category_orders={'spc_common': most_common_manhattan.index, 'curb_loc': ['OnCurb','OffsetFromCurb']},\n",
    "    labels={'spc_common': 'Tree Species', 'tree_problems': 'Tree Problems', 'curb_loc': 'Curb Location'},\n",
    "    barmode='group',\n",
    "    range_x=[-0.5, 19.5]\n",
    ")\n",
    "fig_17.show()"
   ]
  },
  {
   "cell_type": "markdown",
   "id": "ae7d7f9b-f70a-456d-90a5-794dc08fd543",
   "metadata": {},
   "source": [
    "## Conclusion\n",
    "\n",
    "According to Fig. 17, 18, and 19, while picking out of 20 most common trees to ensure the highest validity, top 10 recommended tree species based on median tree DBH, mean health and mean number of tree problems include:\n",
    " - American elm that demonstrates the highest median tree DBH, mean health status and least amount of tree problems when offset from curb;\n",
    " - London planetree that closely follows American elm in all parameters;\n",
    " - pin oak, ginkgo, and Sophora, which reach median tree DBH of around 10 inches and also demonstrate more favorable outcomes when offset from curb;\n",
    " - honeylocust and green ash that reach similar tree DBH, health and number of tree problems;\n",
    " - callery pear; and\n",
    " - willow oak that surprisingly fares better when on the curb.\n",
    "\n",
    "Generally speaking, the most common tree problem according to Fig. 7 is roots damaged by paving stones, which might explain why most of the trees exhibit better indicators when off the curb. Therefore, the solution might be to provide more space for the trees when they are on the curb (as Fig. 6 shows overwhelming majority of them are). Additionally, since different tree species have various requirements for soil, moisture, crown size etc., a look into which neighborhoods might be suitable for the selected trees is also recommended."
   ]
  }
 ],
 "metadata": {
  "editor": "DataCamp Workspace",
  "kernelspec": {
   "display_name": "Python 3 (ipykernel)",
   "language": "python",
   "name": "python3"
  },
  "language_info": {
   "codemirror_mode": {
    "name": "ipython",
    "version": 3
   },
   "file_extension": ".py",
   "mimetype": "text/x-python",
   "name": "python",
   "nbconvert_exporter": "python",
   "pygments_lexer": "ipython3",
   "version": "3.9.15"
  }
 },
 "nbformat": 4,
 "nbformat_minor": 5
}
